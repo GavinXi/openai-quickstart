{
 "cells": [
  {
   "cell_type": "markdown",
   "id": "69032b4b-b031-4020-beb0-e8dfd22b660e",
   "metadata": {},
   "source": [
    "# LangChain 实战：房产销售聊天机器人"
   ]
  },
  {
   "cell_type": "markdown",
   "id": "0f3e2d5a-c2ff-4faf-b153-d1751c25fae0",
   "metadata": {},
   "source": [
    "## 使用 GPT-4 构造销售话术数据\n",
    "\n",
    "话术分享 langchain/sales_chatbot/Sales Training_ Effective Insurance Communication.json\n",
    "\n",
    "\n",
    "使用 ChatGPT 构造销售数据的 Prompt 示例：\n",
    "\n",
    "```\n",
    "你是中国顶级的房地产销售，现在培训职场新人，请给出100条实用的销售话术。\n",
    "\n",
    "每条销售话术以如下格式给出：\n",
    "[客户问题]\n",
    "[销售回答]\n",
    "\n",
    "```\n",
    "\n",
    "\n",
    "## 使用 Document Transformers 模块来处理原始数据\n",
    "\n",
    "\n",
    "将 ChatGPT 生成的结果保存到 [real_estate_sales_data.txt](real_estate_sales_data.txt) 文件中"
   ]
  },
  {
   "cell_type": "code",
   "execution_count": 8,
   "id": "aaa42d72-4524-40e6-84ff-a45b25ca5474",
   "metadata": {},
   "outputs": [
    {
     "name": "stdout",
     "output_type": "stream",
     "text": [
      "Requirement already satisfied: langchain-openai in c:\\programdata\\anaconda3\\envs\\langchain\\lib\\site-packages (0.1.7)\n",
      "Collecting langchain-openai\n",
      "  Downloading langchain_openai-0.1.17-py3-none-any.whl.metadata (2.5 kB)\n",
      "Requirement already satisfied: langchain-core<0.3.0,>=0.2.20 in c:\\programdata\\anaconda3\\envs\\langchain\\lib\\site-packages (from langchain-openai) (0.2.23)\n",
      "Collecting openai<2.0.0,>=1.32.0 (from langchain-openai)\n",
      "  Downloading openai-1.37.0-py3-none-any.whl.metadata (22 kB)\n",
      "Requirement already satisfied: tiktoken<1,>=0.7 in c:\\programdata\\anaconda3\\envs\\langchain\\lib\\site-packages (from langchain-openai) (0.7.0)\n",
      "Requirement already satisfied: PyYAML>=5.3 in c:\\programdata\\anaconda3\\envs\\langchain\\lib\\site-packages (from langchain-core<0.3.0,>=0.2.20->langchain-openai) (6.0.1)\n",
      "Requirement already satisfied: jsonpatch<2.0,>=1.33 in c:\\programdata\\anaconda3\\envs\\langchain\\lib\\site-packages (from langchain-core<0.3.0,>=0.2.20->langchain-openai) (1.33)\n",
      "Requirement already satisfied: langsmith<0.2.0,>=0.1.75 in c:\\programdata\\anaconda3\\envs\\langchain\\lib\\site-packages (from langchain-core<0.3.0,>=0.2.20->langchain-openai) (0.1.93)\n",
      "Requirement already satisfied: packaging<25,>=23.2 in c:\\programdata\\anaconda3\\envs\\langchain\\lib\\site-packages (from langchain-core<0.3.0,>=0.2.20->langchain-openai) (23.2)\n",
      "Requirement already satisfied: pydantic<3,>=1 in c:\\programdata\\anaconda3\\envs\\langchain\\lib\\site-packages (from langchain-core<0.3.0,>=0.2.20->langchain-openai) (2.5.3)\n",
      "Requirement already satisfied: tenacity!=8.4.0,<9.0.0,>=8.1.0 in c:\\programdata\\anaconda3\\envs\\langchain\\lib\\site-packages (from langchain-core<0.3.0,>=0.2.20->langchain-openai) (8.2.3)\n",
      "Requirement already satisfied: anyio<5,>=3.5.0 in c:\\programdata\\anaconda3\\envs\\langchain\\lib\\site-packages (from openai<2.0.0,>=1.32.0->langchain-openai) (4.2.0)\n",
      "Requirement already satisfied: distro<2,>=1.7.0 in c:\\programdata\\anaconda3\\envs\\langchain\\lib\\site-packages (from openai<2.0.0,>=1.32.0->langchain-openai) (1.9.0)\n",
      "Requirement already satisfied: httpx<1,>=0.23.0 in c:\\programdata\\anaconda3\\envs\\langchain\\lib\\site-packages (from openai<2.0.0,>=1.32.0->langchain-openai) (0.26.0)\n",
      "Requirement already satisfied: sniffio in c:\\programdata\\anaconda3\\envs\\langchain\\lib\\site-packages (from openai<2.0.0,>=1.32.0->langchain-openai) (1.3.0)\n",
      "Requirement already satisfied: tqdm>4 in c:\\programdata\\anaconda3\\envs\\langchain\\lib\\site-packages (from openai<2.0.0,>=1.32.0->langchain-openai) (4.66.2)\n",
      "Requirement already satisfied: typing-extensions<5,>=4.7 in c:\\programdata\\anaconda3\\envs\\langchain\\lib\\site-packages (from openai<2.0.0,>=1.32.0->langchain-openai) (4.12.2)\n",
      "Requirement already satisfied: regex>=2022.1.18 in c:\\programdata\\anaconda3\\envs\\langchain\\lib\\site-packages (from tiktoken<1,>=0.7->langchain-openai) (2023.12.25)\n",
      "Requirement already satisfied: requests>=2.26.0 in c:\\programdata\\anaconda3\\envs\\langchain\\lib\\site-packages (from tiktoken<1,>=0.7->langchain-openai) (2.31.0)\n",
      "Requirement already satisfied: idna>=2.8 in c:\\programdata\\anaconda3\\envs\\langchain\\lib\\site-packages (from anyio<5,>=3.5.0->openai<2.0.0,>=1.32.0->langchain-openai) (3.6)\n",
      "Requirement already satisfied: exceptiongroup>=1.0.2 in c:\\programdata\\anaconda3\\envs\\langchain\\lib\\site-packages (from anyio<5,>=3.5.0->openai<2.0.0,>=1.32.0->langchain-openai) (1.2.0)\n",
      "Requirement already satisfied: certifi in c:\\programdata\\anaconda3\\envs\\langchain\\lib\\site-packages (from httpx<1,>=0.23.0->openai<2.0.0,>=1.32.0->langchain-openai) (2024.2.2)\n",
      "Requirement already satisfied: httpcore==1.* in c:\\programdata\\anaconda3\\envs\\langchain\\lib\\site-packages (from httpx<1,>=0.23.0->openai<2.0.0,>=1.32.0->langchain-openai) (1.0.2)\n",
      "Requirement already satisfied: h11<0.15,>=0.13 in c:\\programdata\\anaconda3\\envs\\langchain\\lib\\site-packages (from httpcore==1.*->httpx<1,>=0.23.0->openai<2.0.0,>=1.32.0->langchain-openai) (0.14.0)\n",
      "Requirement already satisfied: jsonpointer>=1.9 in c:\\programdata\\anaconda3\\envs\\langchain\\lib\\site-packages (from jsonpatch<2.0,>=1.33->langchain-core<0.3.0,>=0.2.20->langchain-openai) (2.1)\n",
      "Requirement already satisfied: orjson<4.0.0,>=3.9.14 in c:\\programdata\\anaconda3\\envs\\langchain\\lib\\site-packages (from langsmith<0.2.0,>=0.1.75->langchain-core<0.3.0,>=0.2.20->langchain-openai) (3.9.15)\n",
      "Requirement already satisfied: annotated-types>=0.4.0 in c:\\programdata\\anaconda3\\envs\\langchain\\lib\\site-packages (from pydantic<3,>=1->langchain-core<0.3.0,>=0.2.20->langchain-openai) (0.6.0)\n",
      "Requirement already satisfied: pydantic-core==2.14.6 in c:\\programdata\\anaconda3\\envs\\langchain\\lib\\site-packages (from pydantic<3,>=1->langchain-core<0.3.0,>=0.2.20->langchain-openai) (2.14.6)\n",
      "Requirement already satisfied: charset-normalizer<4,>=2 in c:\\programdata\\anaconda3\\envs\\langchain\\lib\\site-packages (from requests>=2.26.0->tiktoken<1,>=0.7->langchain-openai) (3.3.2)\n",
      "Requirement already satisfied: urllib3<3,>=1.21.1 in c:\\programdata\\anaconda3\\envs\\langchain\\lib\\site-packages (from requests>=2.26.0->tiktoken<1,>=0.7->langchain-openai) (1.26.18)\n",
      "Requirement already satisfied: colorama in c:\\programdata\\anaconda3\\envs\\langchain\\lib\\site-packages (from tqdm>4->openai<2.0.0,>=1.32.0->langchain-openai) (0.4.6)\n",
      "Downloading langchain_openai-0.1.17-py3-none-any.whl (46 kB)\n",
      "   ---------------------------------------- 0.0/46.7 kB ? eta -:--:--\n",
      "   ----------------------------------- ---- 41.0/46.7 kB 653.6 kB/s eta 0:00:01\n",
      "   ---------------------------------------- 46.7/46.7 kB 588.5 kB/s eta 0:00:00\n",
      "Downloading openai-1.37.0-py3-none-any.whl (337 kB)\n",
      "   ---------------------------------------- 0.0/337.0 kB ? eta -:--:--\n",
      "   --- ------------------------------------ 30.7/337.0 kB ? eta -:--:--\n",
      "   ------- -------------------------------- 61.4/337.0 kB 1.7 MB/s eta 0:00:01\n",
      "   ------- -------------------------------- 61.4/337.0 kB 1.7 MB/s eta 0:00:01\n",
      "   ----------------------- ---------------- 194.6/337.0 kB 1.2 MB/s eta 0:00:01\n",
      "   ----------------------- ---------------- 194.6/337.0 kB 1.2 MB/s eta 0:00:01\n",
      "   ------------------------- ------------ 225.3/337.0 kB 919.0 kB/s eta 0:00:01\n",
      "   ------------------------- ------------ 225.3/337.0 kB 919.0 kB/s eta 0:00:01\n",
      "   -------------------------------------- 337.0/337.0 kB 949.9 kB/s eta 0:00:00\n",
      "Installing collected packages: openai, langchain-openai\n",
      "  Attempting uninstall: openai\n",
      "    Found existing installation: openai 1.14.2\n",
      "    Uninstalling openai-1.14.2:\n",
      "      Successfully uninstalled openai-1.14.2\n",
      "  Attempting uninstall: langchain-openai\n",
      "    Found existing installation: langchain-openai 0.1.7\n",
      "    Uninstalling langchain-openai-0.1.7:\n",
      "      Successfully uninstalled langchain-openai-0.1.7\n",
      "Successfully installed langchain-openai-0.1.17 openai-1.30.1\n",
      "Note: you may need to restart the kernel to use updated packages.\n"
     ]
    }
   ],
   "source": [
    "pip install -U langchain-openai"
   ]
  },
  {
   "cell_type": "code",
   "execution_count": 1,
   "id": "efcee928-b9f4-4e4a-b9fb-f6cbee21b642",
   "metadata": {},
   "outputs": [],
   "source": [
    "with open(\"real_insurance_sales_data.txt\", encoding='utf-8') as f:\n",
    "    real_estate_sales = f.read()"
   ]
  },
  {
   "cell_type": "markdown",
   "id": "a9119556-d2e3-4edf-be16-15837da156f1",
   "metadata": {},
   "source": [
    "### 使用 CharacterTextSplitter 来进行文本分割\n",
    "\n",
    "- 基于单字符来进行文本分割（separator）\n",
    "- 基于字符数来决定文本块长度（chunk_size）\n",
    "\n",
    "参考示例：\n",
    "\n",
    "```python\n",
    "from langchain.text_splitter import CharacterTextSplitter\n",
    "text_splitter = CharacterTextSplitter(        \n",
    "    separator = \"\\n\\n\",\n",
    "    chunk_size = 1000,\n",
    "    chunk_overlap  = 200,\n",
    "    length_function = len,\n",
    "    is_separator_regex = False,\n",
    ")\n",
    "```\n"
   ]
  },
  {
   "cell_type": "code",
   "execution_count": 2,
   "id": "dbe535b8-2bd8-4c31-91d7-eba8aa61b3ef",
   "metadata": {},
   "outputs": [],
   "source": [
    "from langchain.text_splitter import CharacterTextSplitter"
   ]
  },
  {
   "cell_type": "code",
   "execution_count": 3,
   "id": "a4f30d9b-9fc6-4860-a497-0aa8220b9284",
   "metadata": {},
   "outputs": [],
   "source": [
    "text_splitter = CharacterTextSplitter(        \n",
    "    separator = r'\\d+\\.',\n",
    "    chunk_size = 350,\n",
    "    chunk_overlap  = 0,\n",
    "    length_function = len,\n",
    "    is_separator_regex = True,\n",
    ")"
   ]
  },
  {
   "cell_type": "code",
   "execution_count": 4,
   "id": "530f3172-17a5-4924-ad17-284fbca422ae",
   "metadata": {},
   "outputs": [],
   "source": [
    "docs = text_splitter.create_documents([real_estate_sales])"
   ]
  },
  {
   "cell_type": "code",
   "execution_count": 5,
   "id": "3956ec36-706e-4f43-88fc-d704f2984290",
   "metadata": {},
   "outputs": [
    {
     "data": {
      "text/plain": [
       "Document(page_content='\\\\d+\\\\. 问：请简单介绍一下您自己？。\\n   答：您好，我是“安逸养老”保险的销售顾问小陈，很高兴能够和您交流。我在保险行业有多年的工作经验，专注于为客户提供个性化的保险解决方案。\\n\\n\\\\d+\\\\. 问：介绍一下我们公司。\\n   答：我们公司“安逸养老”专注于提供优质的养老保险服务，致力于帮助客户在退休后过上安逸的生活。我们拥有一支经验丰富的团队，为客户提供全方位的保险咨询和服务。\\n\\n\\\\d+\\\\. 问：什么是养老保险？它的主要作用是什么？\\n   答：养老保险是一种保险产品，旨在帮助个人在退休后获得稳定的收入来源，以应对生活中的各种支出，如医疗费用、日常开支等。它的主要作用是确保客户在老年时期有经济保障，过上安逸的生活。')"
      ]
     },
     "execution_count": 5,
     "metadata": {},
     "output_type": "execute_result"
    }
   ],
   "source": [
    "docs[0]"
   ]
  },
  {
   "cell_type": "code",
   "execution_count": 6,
   "id": "73b2d47a-27ae-4cd4-a72a-3809b4c22bff",
   "metadata": {},
   "outputs": [
    {
     "data": {
      "text/plain": [
       "51"
      ]
     },
     "execution_count": 6,
     "metadata": {},
     "output_type": "execute_result"
    }
   ],
   "source": [
    "len(docs)"
   ]
  },
  {
   "cell_type": "markdown",
   "id": "e4617858-ad9c-42eb-a4c3-6bfb7108cdd2",
   "metadata": {},
   "source": [
    "### 使用 Faiss 作为向量数据库，持久化存储房产销售 问答对（QA-Pair）"
   ]
  },
  {
   "cell_type": "code",
   "execution_count": 9,
   "id": "508c2ab2-e187-424f-a43c-ca3d3b1a0550",
   "metadata": {},
   "outputs": [],
   "source": [
    "import os\n",
    "from langchain.embeddings.openai import OpenAIEmbeddings\n",
    "from langchain.text_splitter import CharacterTextSplitter\n",
    "from langchain.vectorstores import FAISS\n",
    "os.environ['OPENAI_API_KEY'] = 'sk-abcd'\n",
    "os.environ['OPENAI_BASE_URL'] = 'https://api.xiaoai.plus/v1'\n",
    "db = FAISS.from_documents(docs, OpenAIEmbeddings())"
   ]
  },
  {
   "cell_type": "code",
   "execution_count": 29,
   "id": "250e0873-95e2-4372-98a5-68c0feb304bb",
   "metadata": {},
   "outputs": [],
   "source": [
    "query = \"是否提供咨询服务？\""
   ]
  },
  {
   "cell_type": "code",
   "execution_count": 30,
   "id": "0d18fcc6-c2be-434b-b8de-9648ac6f83f4",
   "metadata": {},
   "outputs": [],
   "source": [
    "answer_list = db.similarity_search(query)"
   ]
  },
  {
   "cell_type": "code",
   "execution_count": 31,
   "id": "e689667e-7a45-40d6-9eae-4e52cbc7daab",
   "metadata": {},
   "outputs": [
    {
     "name": "stdout",
     "output_type": "stream",
     "text": [
      "问：安逸养老保险公司是否提供免费的保险咨询服务？\n",
      "    答：是的，安逸养老保险公司提供免费的保险咨询服务。如果您对养老保险有任何疑问或需要专业的建议，您可以随时联系我们的销售顾问。他们将为您提供详细的解答和个性化的建议，帮助您了解养老保险的相关知识，并选择最适合您的保险产品。\n",
      "\n",
      "\\d+\\. 问：安逸养老保险公司是否提供退保服务？\n",
      "    答：是的，安逸养老保险公司提供退保服务。如果您在购买保险后需要退保，您可以联系我们的客户服务部门或销售顾问，提出退保申请。我们将根据保险合同的相关条款和规定，协助您办理退保手续。请注意，退保可能会涉及一定的手续费或退保价值的调整，请与我们的销售顾问咨询具体的退保政策和费用信息。\n",
      "\n",
      "问：安逸养老保险公司是否有合作医院或医疗机构？\n",
      "    答：是的，安逸养老保险公司与一些合作医院或医疗机构建立了合作关系。这些合作医院或医疗机构可以为我们的客户提供优先就诊、特殊待遇或其他相关服务。具体的合作医院或医疗机构名单可以在我们的官方网站或与销售顾问咨询时获取。我们致力于为客户提供全方位的保险保障和健康服务。\n",
      "\n",
      "\\d+\\. 问：安逸养老保险公司是否提供养老规划咨询服务？\n",
      "    答：是的，安逸养老保险公司提供养老规划咨询服务。我们的销售顾问可以根据您的年龄、收入、退休计划等因素，为您制定个性化的养老规划方案。养老规划涉及到财务规划、投资规划、退休收入规划等方面，我们将为您提供专业的建议和指导，帮助您实现理想的退休生活。\n",
      "\n",
      "问：安逸养老保险公司是否提供保单贷款服务？\n",
      "    答：是的，安逸养老保险公司提供保单贷款服务。如果您需要在保险合同有效期内获得一定的资金支持，您可以将保单作为抵押物向我们申请贷款。我们将根据您的保单价值和相关规定，评估贷款金额和利率。保单贷款可以帮助您应对紧急资金需求或其他个人经济需求。\n",
      "\n",
      "\\d+\\. 问：安逸养老保险公司是否提供免费的保险理赔服务？\n",
      "    答：是的，安逸养老保险公司提供免费的保险理赔服务。如果您需要申请保险理赔，您可以联系我们的客户服务部门或销售顾问，提供相关的索赔材料和证明。我们的理赔专员将会对您的申请进行审核，并尽快处理您的理赔请求。我们致力于为客户提供高效、公正和专业的保险理赔服务。\n",
      "\n",
      "问：如果我需要索赔，应该如何操作？\n",
      "    答：如果您需要索赔，您可以与我们的客户服务团队联系，提供相关的索赔申请和支持文件。我们会尽快处理您的索赔请求，并为您提供必要的协助和支持。\n",
      "\n",
      "\\d+\\. 问：如果我不满意保险合同，可以退保吗？\n",
      "    答：在一些情况下，您可以选择退保。具体的退保政策和退还金额会根据保险合同的约定来确定。我们建议您在退保前仔细阅读合同条款，并咨询销售顾问以了解具体的退保流程和退还政策。\n",
      "\n",
      "\\d+\\. 问：如果我有其他问题或需要帮助，可以找谁咨询？\n",
      "    答：如果您有任何问题或需要帮助，您可以随时联系我们的客户服务团队。他们会耐心解答您的问题，并为您提供所需的支持和帮助。\n",
      "\n"
     ]
    }
   ],
   "source": [
    "for ans in answer_list:\n",
    "    print(ans.page_content + \"\\n\")"
   ]
  },
  {
   "cell_type": "code",
   "execution_count": 32,
   "id": "a6cc47bf-1566-472f-84d2-a46bd634907c",
   "metadata": {},
   "outputs": [],
   "source": [
    "db.save_local(\"real_insurance_sale\")"
   ]
  },
  {
   "cell_type": "markdown",
   "id": "0d5323e5-03fa-4c1c-b896-3ccc28af1857",
   "metadata": {},
   "source": [
    "### 使用 retriever 从向量数据库中获取结果\n",
    "\n",
    "#### 使用参数 `k` 指定返回结果数量\n"
   ]
  },
  {
   "cell_type": "code",
   "execution_count": 50,
   "id": "17f051c9-8676-48d1-a9a4-e69b52630faf",
   "metadata": {},
   "outputs": [],
   "source": [
    "# 实例化一个 TopK Retriever\n",
    "topK_retriever = db.as_retriever(search_kwargs={\"k\": 3})"
   ]
  },
  {
   "cell_type": "code",
   "execution_count": 51,
   "id": "e33024db-ca7b-4d68-9b0e-c31c15ded57d",
   "metadata": {},
   "outputs": [
    {
     "data": {
      "text/plain": [
       "VectorStoreRetriever(tags=['FAISS', 'OpenAIEmbeddings'], vectorstore=<langchain_community.vectorstores.faiss.FAISS object at 0x000001AA87991B10>, search_kwargs={'k': 3})"
      ]
     },
     "execution_count": 51,
     "metadata": {},
     "output_type": "execute_result"
    }
   ],
   "source": [
    "topK_retriever"
   ]
  },
  {
   "cell_type": "code",
   "execution_count": 52,
   "id": "7efb1414-859f-4818-bacd-e1e2edf34b95",
   "metadata": {},
   "outputs": [
    {
     "name": "stdout",
     "output_type": "stream",
     "text": [
      "问：安逸养老保险公司是否提供免费的保险咨询服务？\n",
      "    答：是的，安逸养老保险公司提供免费的保险咨询服务。如果您对养老保险有任何疑问或需要专业的建议，您可以随时联系我们的销售顾问。他们将为您提供详细的解答和个性化的建议，帮助您了解养老保险的相关知识，并选择最适合您的保险产品。\n",
      "\n",
      "\\d+\\. 问：安逸养老保险公司是否提供退保服务？\n",
      "    答：是的，安逸养老保险公司提供退保服务。如果您在购买保险后需要退保，您可以联系我们的客户服务部门或销售顾问，提出退保申请。我们将根据保险合同的相关条款和规定，协助您办理退保手续。请注意，退保可能会涉及一定的手续费或退保价值的调整，请与我们的销售顾问咨询具体的退保政策和费用信息。\n",
      "\n",
      "问：安逸养老保险公司是否有合作医院或医疗机构？\n",
      "    答：是的，安逸养老保险公司与一些合作医院或医疗机构建立了合作关系。这些合作医院或医疗机构可以为我们的客户提供优先就诊、特殊待遇或其他相关服务。具体的合作医院或医疗机构名单可以在我们的官方网站或与销售顾问咨询时获取。我们致力于为客户提供全方位的保险保障和健康服务。\n",
      "\n",
      "\\d+\\. 问：安逸养老保险公司是否提供养老规划咨询服务？\n",
      "    答：是的，安逸养老保险公司提供养老规划咨询服务。我们的销售顾问可以根据您的年龄、收入、退休计划等因素，为您制定个性化的养老规划方案。养老规划涉及到财务规划、投资规划、退休收入规划等方面，我们将为您提供专业的建议和指导，帮助您实现理想的退休生活。\n",
      "\n",
      "问：安逸养老保险公司是否提供保单贷款服务？\n",
      "    答：是的，安逸养老保险公司提供保单贷款服务。如果您需要在保险合同有效期内获得一定的资金支持，您可以将保单作为抵押物向我们申请贷款。我们将根据您的保单价值和相关规定，评估贷款金额和利率。保单贷款可以帮助您应对紧急资金需求或其他个人经济需求。\n",
      "\n",
      "\\d+\\. 问：安逸养老保险公司是否提供免费的保险理赔服务？\n",
      "    答：是的，安逸养老保险公司提供免费的保险理赔服务。如果您需要申请保险理赔，您可以联系我们的客户服务部门或销售顾问，提供相关的索赔材料和证明。我们的理赔专员将会对您的申请进行审核，并尽快处理您的理赔请求。我们致力于为客户提供高效、公正和专业的保险理赔服务。\n",
      "\n"
     ]
    }
   ],
   "source": [
    "docs = topK_retriever.get_relevant_documents(query)\n",
    "for doc in docs:\n",
    "    print(doc.page_content + \"\\n\")"
   ]
  },
  {
   "cell_type": "code",
   "execution_count": 53,
   "id": "a3c4b62d-6f8f-461b-a4fb-41c8a404b831",
   "metadata": {},
   "outputs": [],
   "source": [
    "docs = topK_retriever.get_relevant_documents(\"受益怎么样\")"
   ]
  },
  {
   "cell_type": "code",
   "execution_count": 54,
   "id": "04cca3d7-23d9-491f-8350-faeb19861dec",
   "metadata": {},
   "outputs": [
    {
     "name": "stdout",
     "output_type": "stream",
     "text": [
      "问：如何了解养老保险的最新信息和政策变动？\n",
      "    答：我们会定期向客户发送最新的养老保险信息和政策变动通知。您也可以通过我们的官方网站、客户服务热线或移动应用程序获取最新的信息。此外，我们的销售顾问也会定期与您保持联系，向您提供最新的产品信息和政策解读。\n",
      "\n",
      "\\d+\\. 问：养老保险是否可以终身受益？\n",
      "    答：养老保险通常是终身受益的，意味着一旦购买并支付保费，您将享受终身的保险保障。这意味着在您退休后，您可以按照保险合同的约定获得养老金或一次性保险金。我们的销售顾问可以帮助您选择适合您需求的终身养老保险产品。\n",
      "\n",
      "问：养老保险是否可以购买额外的税收优惠计划？\n",
      "    答：一般情况下，养老保险本身并不提供额外的税收优惠计划。然而，根据您所在的地区和税法规定，您可能有资格享受养老保险相关的税收优惠。我们建议您咨询专业税务顾问或与当地税务机构联系，了解适用于您的个人情况的税收政策和优惠。\n",
      "\n",
      "\\d+\\. 问：如果我在养老保险期间去世，我的受益人能否领取保险金？\n",
      "    答：如果您在养老保险期间去世，根据保险合同的规定，您的受益人通常可以领取相应的保险金。保险金的领取方式和金额将根据您所购买的保险产品和合同条款来确定。我们的销售顾问可以为您详细解释受益人权益和保险金领取流程。\n",
      "\n",
      "问：如果我在养老保险期间需要更改受益人，是否可以进行更改？\n",
      "    答：一般情况下，您可以在养老保险期间更改受益人。您可以与我们的销售顾问联系，了解相关的受益人更改程序和要求。在进行受益人更改时，您可能需要填写相应的表格并提供必要的文件和证明。\n",
      "\n",
      "\\d+\\. 问：养老保险是否可以购买额外的意外伤害保险？\n",
      "    答：是的，养老保险可以与额外的意外伤害保险结合购买。意外伤害保险可以为您提供在退休后可能发生的意外事故中的经济保障和医疗费用补偿。结合养老保险和意外伤害保险可以全面保障您的经济和健康。我们的销售顾问可以为您提供个性化的保险规划建议。\n",
      "\n"
     ]
    }
   ],
   "source": [
    "for doc in docs:\n",
    "    print(doc.page_content + \"\\n\")"
   ]
  },
  {
   "cell_type": "markdown",
   "id": "b335c9e5-bc01-4a47-916c-03bec0e7a839",
   "metadata": {},
   "source": [
    "#### 使用 similarity_score_threshold 设置阈值，提升结果的相关性质量"
   ]
  },
  {
   "cell_type": "code",
   "execution_count": 57,
   "id": "b1298956-6cf3-4a68-a3c2-a3149f64f156",
   "metadata": {},
   "outputs": [],
   "source": [
    "# 实例化一个 similarity_score_threshold Retriever\n",
    "retriever = db.as_retriever(\n",
    "    search_type=\"similarity_score_threshold\",\n",
    "    search_kwargs={\"score_threshold\": 0.5}\n",
    ")"
   ]
  },
  {
   "cell_type": "code",
   "execution_count": 58,
   "id": "d61167de-72ed-4618-a2e1-5df04784a3bc",
   "metadata": {},
   "outputs": [
    {
     "name": "stdout",
     "output_type": "stream",
     "text": [
      "问：安逸养老保险公司是否提供免费的保险咨询服务？\n",
      "    答：是的，安逸养老保险公司提供免费的保险咨询服务。如果您对养老保险有任何疑问或需要专业的建议，您可以随时联系我们的销售顾问。他们将为您提供详细的解答和个性化的建议，帮助您了解养老保险的相关知识，并选择最适合您的保险产品。\n",
      "\n",
      "\\d+\\. 问：安逸养老保险公司是否提供退保服务？\n",
      "    答：是的，安逸养老保险公司提供退保服务。如果您在购买保险后需要退保，您可以联系我们的客户服务部门或销售顾问，提出退保申请。我们将根据保险合同的相关条款和规定，协助您办理退保手续。请注意，退保可能会涉及一定的手续费或退保价值的调整，请与我们的销售顾问咨询具体的退保政策和费用信息。\n",
      "\n",
      "问：安逸养老保险公司是否有合作医院或医疗机构？\n",
      "    答：是的，安逸养老保险公司与一些合作医院或医疗机构建立了合作关系。这些合作医院或医疗机构可以为我们的客户提供优先就诊、特殊待遇或其他相关服务。具体的合作医院或医疗机构名单可以在我们的官方网站或与销售顾问咨询时获取。我们致力于为客户提供全方位的保险保障和健康服务。\n",
      "\n",
      "\\d+\\. 问：安逸养老保险公司是否提供养老规划咨询服务？\n",
      "    答：是的，安逸养老保险公司提供养老规划咨询服务。我们的销售顾问可以根据您的年龄、收入、退休计划等因素，为您制定个性化的养老规划方案。养老规划涉及到财务规划、投资规划、退休收入规划等方面，我们将为您提供专业的建议和指导，帮助您实现理想的退休生活。\n",
      "\n",
      "问：安逸养老保险公司是否提供保单贷款服务？\n",
      "    答：是的，安逸养老保险公司提供保单贷款服务。如果您需要在保险合同有效期内获得一定的资金支持，您可以将保单作为抵押物向我们申请贷款。我们将根据您的保单价值和相关规定，评估贷款金额和利率。保单贷款可以帮助您应对紧急资金需求或其他个人经济需求。\n",
      "\n",
      "\\d+\\. 问：安逸养老保险公司是否提供免费的保险理赔服务？\n",
      "    答：是的，安逸养老保险公司提供免费的保险理赔服务。如果您需要申请保险理赔，您可以联系我们的客户服务部门或销售顾问，提供相关的索赔材料和证明。我们的理赔专员将会对您的申请进行审核，并尽快处理您的理赔请求。我们致力于为客户提供高效、公正和专业的保险理赔服务。\n",
      "\n",
      "问：如果我需要索赔，应该如何操作？\n",
      "    答：如果您需要索赔，您可以与我们的客户服务团队联系，提供相关的索赔申请和支持文件。我们会尽快处理您的索赔请求，并为您提供必要的协助和支持。\n",
      "\n",
      "\\d+\\. 问：如果我不满意保险合同，可以退保吗？\n",
      "    答：在一些情况下，您可以选择退保。具体的退保政策和退还金额会根据保险合同的约定来确定。我们建议您在退保前仔细阅读合同条款，并咨询销售顾问以了解具体的退保流程和退还政策。\n",
      "\n",
      "\\d+\\. 问：如果我有其他问题或需要帮助，可以找谁咨询？\n",
      "    答：如果您有任何问题或需要帮助，您可以随时联系我们的客户服务团队。他们会耐心解答您的问题，并为您提供所需的支持和帮助。\n",
      "\n"
     ]
    }
   ],
   "source": [
    "docs = retriever.get_relevant_documents(query)\n",
    "for doc in docs:\n",
    "    print(doc.page_content + \"\\n\")"
   ]
  },
  {
   "cell_type": "code",
   "execution_count": null,
   "id": "548d1b52-6fa2-46d6-9218-908db572f380",
   "metadata": {},
   "outputs": [],
   "source": []
  },
  {
   "cell_type": "markdown",
   "id": "c31344ce-f952-4604-b700-fdbb34da1e28",
   "metadata": {},
   "source": [
    "### 提取向量数据库中的`销售回答`"
   ]
  },
  {
   "cell_type": "code",
   "execution_count": 59,
   "id": "25768463-da65-4762-978d-51c0c3a9c24b",
   "metadata": {},
   "outputs": [],
   "source": [
    "docs = retriever.get_relevant_documents(query)"
   ]
  },
  {
   "cell_type": "code",
   "execution_count": 60,
   "id": "4838d3da-dca3-4c31-80da-cec75760a833",
   "metadata": {},
   "outputs": [
    {
     "data": {
      "text/plain": [
       "'问：安逸养老保险公司是否提供免费的保险咨询服务？\\n    答：是的，安逸养老保险公司提供免费的保险咨询服务。如果您对养老保险有任何疑问或需要专业的建议，您可以随时联系我们的销售顾问。他们将为您提供详细的解答和个性化的建议，帮助您了解养老保险的相关知识，并选择最适合您的保险产品。\\n\\n\\\\d+\\\\. 问：安逸养老保险公司是否提供退保服务？\\n    答：是的，安逸养老保险公司提供退保服务。如果您在购买保险后需要退保，您可以联系我们的客户服务部门或销售顾问，提出退保申请。我们将根据保险合同的相关条款和规定，协助您办理退保手续。请注意，退保可能会涉及一定的手续费或退保价值的调整，请与我们的销售顾问咨询具体的退保政策和费用信息。'"
      ]
     },
     "execution_count": 60,
     "metadata": {},
     "output_type": "execute_result"
    }
   ],
   "source": [
    "docs[0].page_content"
   ]
  },
  {
   "cell_type": "code",
   "execution_count": 61,
   "id": "1ba30232-f468-4102-b70c-02c8b74da43d",
   "metadata": {},
   "outputs": [
    {
     "data": {
      "text/plain": [
       "['问：安逸养老保险公司是否提供免费的保险咨询服务？\\n    答：是的，安逸养老保险公司提供免费的保险咨询服务。如果您对养老保险有任何疑问或需要专业的建议，您可以随时联系我们的销售顾问。他们将为您提供详细的解答和个性化的建议，帮助您了解养老保险的相关知识，并选择最适合您的保险产品。\\n\\n\\\\d+\\\\. 问：安逸养老保险公司是否提供退保服务？\\n    答：是的，安逸养老保险公司提供退保服务。如果您在购买保险后需要退保，您可以联系我们的客户服务部门或销售顾问，提出退保申请。我们将根据保险合同的相关条款和规定，协助您办理退保手续。请注意，退保可能会涉及一定的手续费或退保价值的调整，请与我们的销售顾问咨询具体的退保政策和费用信息。']"
      ]
     },
     "execution_count": 61,
     "metadata": {},
     "output_type": "execute_result"
    }
   ],
   "source": [
    "docs[0].page_content.split(\"[销售回答] \")"
   ]
  },
  {
   "cell_type": "code",
   "execution_count": 62,
   "id": "bda8eb0c-eb1f-47b2-91ab-4c94ff71c3db",
   "metadata": {},
   "outputs": [],
   "source": [
    "ans = docs[0].page_content.split(\"[销售回答] \")[-1]"
   ]
  },
  {
   "cell_type": "code",
   "execution_count": 63,
   "id": "917a3b6c-3149-42e2-b7b6-abebd94b7f72",
   "metadata": {},
   "outputs": [
    {
     "data": {
      "text/plain": [
       "'问：安逸养老保险公司是否提供免费的保险咨询服务？\\n    答：是的，安逸养老保险公司提供免费的保险咨询服务。如果您对养老保险有任何疑问或需要专业的建议，您可以随时联系我们的销售顾问。他们将为您提供详细的解答和个性化的建议，帮助您了解养老保险的相关知识，并选择最适合您的保险产品。\\n\\n\\\\d+\\\\. 问：安逸养老保险公司是否提供退保服务？\\n    答：是的，安逸养老保险公司提供退保服务。如果您在购买保险后需要退保，您可以联系我们的客户服务部门或销售顾问，提出退保申请。我们将根据保险合同的相关条款和规定，协助您办理退保手续。请注意，退保可能会涉及一定的手续费或退保价值的调整，请与我们的销售顾问咨询具体的退保政策和费用信息。'"
      ]
     },
     "execution_count": 63,
     "metadata": {},
     "output_type": "execute_result"
    }
   ],
   "source": [
    "ans"
   ]
  },
  {
   "cell_type": "markdown",
   "id": "b36b61a5-156d-4546-bbd1-8a983e94676b",
   "metadata": {},
   "source": [
    "#### 尝试各种问题"
   ]
  },
  {
   "cell_type": "code",
   "execution_count": 67,
   "id": "c311a656-e571-45d6-8690-88e4be2c2a65",
   "metadata": {},
   "outputs": [],
   "source": [
    "from typing import List\n",
    "\n",
    "def sales(query: str, score_threshold: float=0.5) -> List[str]:\n",
    "    retriever = db.as_retriever(search_type=\"similarity_score_threshold\", search_kwargs={\"score_threshold\": score_threshold})    \n",
    "    docs = retriever.get_relevant_documents(query)\n",
    "    ans_list = [doc.page_content.split(\"[销售回答] \")[-1] for doc in docs]\n",
    "\n",
    "    return ans_list"
   ]
  },
  {
   "cell_type": "code",
   "execution_count": 68,
   "id": "2f4c6c08-b97c-4727-9aa1-a474d85a11e4",
   "metadata": {},
   "outputs": [
    {
     "name": "stdout",
     "output_type": "stream",
     "text": [
      "['问：如果我购买了养老保险后，需要更改受益人信息，是否可以办理修改？\\n    答：如果您购买了养老保险后，需要更改受益人信息，一般情况下是可以办理修改的。具体的修改受益人信息的政策和程序将根据保险公司的规定而有所不同。一般来说，您可以与我们的销售顾问联系，提出修改受益人信息的要求，并根据保险公司的要求提供相应的文件和证明。我们的销售顾问可以帮助您了解具体的修改受益人信息的流程和要求。', '问：如果我在养老保险期间需要更改受益人，是否可以进行更改？\\n    答：一般情况下，您可以在养老保险期间更改受益人。您可以与我们的销售顾问联系，了解相关的受益人更改程序和要求。在进行受益人更改时，您可能需要填写相应的表格并提供必要的文件和证明。\\n\\n\\\\d+\\\\. 问：养老保险是否可以购买额外的意外伤害保险？\\n    答：是的，养老保险可以与额外的意外伤害保险结合购买。意外伤害保险可以为您提供在退休后可能发生的意外事故中的经济保障和医疗费用补偿。结合养老保险和意外伤害保险可以全面保障您的经济和健康。我们的销售顾问可以为您提供个性化的保险规划建议。', '问：购买养老保险时，是否可以选择不同的投保人和被保险人？\\n    答：购买养老保险时，一般可以选择不同的投保人和被保险人。投保人是购买保险的人，负责支付保费和签署保险合同。被保险人是享受保险保障的人，通常是投保人本人或者是投保人指定的受益人。在某些情况下，投保人和被保险人可以是同一个人，也可以是不同的人。我们的销售顾问可以帮助您了解不同投保人和被保险人组合的选择，以满足您的个人需求和保险计划。', '问：养老保险是否可以购买多份保单？\\n    答：是的，您可以购买多份养老保险保单。购买多份保单可以增加您的保险保障和退休收入。每份保单的保费和保险金额将根据您的选择而定。我们的销售顾问可以帮助您制定个性化的保险规划，以满足您的需求和目标。\\n\\n\\\\d+\\\\. 问：养老保险是否可以在保险期限内更改受益人？\\n    答：一般情况下，养老保险是可以在保险期限内更改受益人的。如果您有需要更改受益人的情况，您可以与我们联系，提供相关的申请和身份证明文件。我们将根据保险合同的规定帮助您完成受益人的更改手续。']\n"
     ]
    }
   ],
   "source": [
    "query = \"我想可以随时更换受益人的\"\n",
    "\n",
    "print(sales(query))"
   ]
  },
  {
   "cell_type": "code",
   "execution_count": 69,
   "id": "11e3d8b6-839f-4b2f-b519-841e0271f95b",
   "metadata": {},
   "outputs": [
    {
     "name": "stdout",
     "output_type": "stream",
     "text": [
      "['问：如果我购买了养老保险后，需要更改受益人信息，是否可以办理修改？\\n    答：如果您购买了养老保险后，需要更改受益人信息，一般情况下是可以办理修改的。具体的修改受益人信息的政策和程序将根据保险公司的规定而有所不同。一般来说，您可以与我们的销售顾问联系，提出修改受益人信息的要求，并根据保险公司的要求提供相应的文件和证明。我们的销售顾问可以帮助您了解具体的修改受益人信息的流程和要求。', '问：如果我在养老保险期间需要更改受益人，是否可以进行更改？\\n    答：一般情况下，您可以在养老保险期间更改受益人。您可以与我们的销售顾问联系，了解相关的受益人更改程序和要求。在进行受益人更改时，您可能需要填写相应的表格并提供必要的文件和证明。\\n\\n\\\\d+\\\\. 问：养老保险是否可以购买额外的意外伤害保险？\\n    答：是的，养老保险可以与额外的意外伤害保险结合购买。意外伤害保险可以为您提供在退休后可能发生的意外事故中的经济保障和医疗费用补偿。结合养老保险和意外伤害保险可以全面保障您的经济和健康。我们的销售顾问可以为您提供个性化的保险规划建议。', '问：购买养老保险时，是否可以选择不同的投保人和被保险人？\\n    答：购买养老保险时，一般可以选择不同的投保人和被保险人。投保人是购买保险的人，负责支付保费和签署保险合同。被保险人是享受保险保障的人，通常是投保人本人或者是投保人指定的受益人。在某些情况下，投保人和被保险人可以是同一个人，也可以是不同的人。我们的销售顾问可以帮助您了解不同投保人和被保险人组合的选择，以满足您的个人需求和保险计划。']\n"
     ]
    }
   ],
   "source": [
    "print(sales(query, 0.7))"
   ]
  },
  {
   "cell_type": "code",
   "execution_count": 72,
   "id": "fc5b030a-ae6f-4d42-9577-1420c78aecb1",
   "metadata": {},
   "outputs": [
    {
     "name": "stdout",
     "output_type": "stream",
     "text": [
      "score:0.8 ans: ['问：养老保险是否可以购买额外的退休金计划？\\n    答：养老保险的主要目的是为了提供退休后的经济保障，一般不包含额外的退休金计划。然而，某些养老保险产品可能提供附加的退休金计划选项，以增加您的退休收入。我们的销售顾问可以为您介绍适合您需求的产品和退休金计划。\\n\\n\\\\d+\\\\. 问：养老保险是否可以购买额外的养老金递增选项？\\n    答：一般情况下，养老保险的养老金是在购买时确定的，不可以随意递增。然而，某些养老保险产品可能提供养老金递增选项或养老金递增 rider，以应对通货膨胀等因素的影响。我们的销售顾问可以为您详细解释递增选项和其对您的养老金的影响。', '问：养老保险是否可以购买额外的税收优惠计划？\\n    答：一般情况下，养老保险本身并不提供额外的税收优惠计划。然而，根据您所在的地区和税法规定，您可能有资格享受养老保险相关的税收优惠。我们建议您咨询专业税务顾问或与当地税务机构联系，了解适用于您的个人情况的税收政策和优惠。\\n\\n\\\\d+\\\\. 问：如果我在养老保险期间去世，我的受益人能否领取保险金？\\n    答：如果您在养老保险期间去世，根据保险合同的规定，您的受益人通常可以领取相应的保险金。保险金的领取方式和金额将根据您所购买的保险产品和合同条款来确定。我们的销售顾问可以为您详细解释受益人权益和保险金领取流程。', '问：养老保险是否可以购买多份保单？\\n    答：是的，您可以购买多份养老保险保单。购买多份保单可以增加您的保险保障和退休收入。每份保单的保费和保险金额将根据您的选择而定。我们的销售顾问可以帮助您制定个性化的保险规划，以满足您的需求和目标。\\n\\n\\\\d+\\\\. 问：养老保险是否可以在保险期限内更改受益人？\\n    答：一般情况下，养老保险是可以在保险期限内更改受益人的。如果您有需要更改受益人的情况，您可以与我们联系，提供相关的申请和身份证明文件。我们将根据保险合同的规定帮助您完成受益人的更改手续。', '问：如何了解养老保险的最新信息和政策变动？\\n    答：我们会定期向客户发送最新的养老保险信息和政策变动通知。您也可以通过我们的官方网站、客户服务热线或移动应用程序获取最新的信息。此外，我们的销售顾问也会定期与您保持联系，向您提供最新的产品信息和政策解读。\\n\\n\\\\d+\\\\. 问：养老保险是否可以终身受益？\\n    答：养老保险通常是终身受益的，意味着一旦购买并支付保费，您将享受终身的保险保障。这意味着在您退休后，您可以按照保险合同的约定获得养老金或一次性保险金。我们的销售顾问可以帮助您选择适合您需求的终身养老保险产品。']\n",
      "\n",
      "score:0.6 ans: ['问：养老保险是否可以购买额外的退休金计划？\\n    答：养老保险的主要目的是为了提供退休后的经济保障，一般不包含额外的退休金计划。然而，某些养老保险产品可能提供附加的退休金计划选项，以增加您的退休收入。我们的销售顾问可以为您介绍适合您需求的产品和退休金计划。\\n\\n\\\\d+\\\\. 问：养老保险是否可以购买额外的养老金递增选项？\\n    答：一般情况下，养老保险的养老金是在购买时确定的，不可以随意递增。然而，某些养老保险产品可能提供养老金递增选项或养老金递增 rider，以应对通货膨胀等因素的影响。我们的销售顾问可以为您详细解释递增选项和其对您的养老金的影响。', '问：养老保险是否可以购买额外的税收优惠计划？\\n    答：一般情况下，养老保险本身并不提供额外的税收优惠计划。然而，根据您所在的地区和税法规定，您可能有资格享受养老保险相关的税收优惠。我们建议您咨询专业税务顾问或与当地税务机构联系，了解适用于您的个人情况的税收政策和优惠。\\n\\n\\\\d+\\\\. 问：如果我在养老保险期间去世，我的受益人能否领取保险金？\\n    答：如果您在养老保险期间去世，根据保险合同的规定，您的受益人通常可以领取相应的保险金。保险金的领取方式和金额将根据您所购买的保险产品和合同条款来确定。我们的销售顾问可以为您详细解释受益人权益和保险金领取流程。', '问：养老保险是否可以购买多份保单？\\n    答：是的，您可以购买多份养老保险保单。购买多份保单可以增加您的保险保障和退休收入。每份保单的保费和保险金额将根据您的选择而定。我们的销售顾问可以帮助您制定个性化的保险规划，以满足您的需求和目标。\\n\\n\\\\d+\\\\. 问：养老保险是否可以在保险期限内更改受益人？\\n    答：一般情况下，养老保险是可以在保险期限内更改受益人的。如果您有需要更改受益人的情况，您可以与我们联系，提供相关的申请和身份证明文件。我们将根据保险合同的规定帮助您完成受益人的更改手续。', '问：如何了解养老保险的最新信息和政策变动？\\n    答：我们会定期向客户发送最新的养老保险信息和政策变动通知。您也可以通过我们的官方网站、客户服务热线或移动应用程序获取最新的信息。此外，我们的销售顾问也会定期与您保持联系，向您提供最新的产品信息和政策解读。\\n\\n\\\\d+\\\\. 问：养老保险是否可以终身受益？\\n    答：养老保险通常是终身受益的，意味着一旦购买并支付保费，您将享受终身的保险保障。这意味着在您退休后，您可以按照保险合同的约定获得养老金或一次性保险金。我们的销售顾问可以帮助您选择适合您需求的终身养老保险产品。']\n",
      "\n",
      "score:0.5 ans: ['问：养老保险是否可以购买额外的退休金计划？\\n    答：养老保险的主要目的是为了提供退休后的经济保障，一般不包含额外的退休金计划。然而，某些养老保险产品可能提供附加的退休金计划选项，以增加您的退休收入。我们的销售顾问可以为您介绍适合您需求的产品和退休金计划。\\n\\n\\\\d+\\\\. 问：养老保险是否可以购买额外的养老金递增选项？\\n    答：一般情况下，养老保险的养老金是在购买时确定的，不可以随意递增。然而，某些养老保险产品可能提供养老金递增选项或养老金递增 rider，以应对通货膨胀等因素的影响。我们的销售顾问可以为您详细解释递增选项和其对您的养老金的影响。', '问：养老保险是否可以购买额外的税收优惠计划？\\n    答：一般情况下，养老保险本身并不提供额外的税收优惠计划。然而，根据您所在的地区和税法规定，您可能有资格享受养老保险相关的税收优惠。我们建议您咨询专业税务顾问或与当地税务机构联系，了解适用于您的个人情况的税收政策和优惠。\\n\\n\\\\d+\\\\. 问：如果我在养老保险期间去世，我的受益人能否领取保险金？\\n    答：如果您在养老保险期间去世，根据保险合同的规定，您的受益人通常可以领取相应的保险金。保险金的领取方式和金额将根据您所购买的保险产品和合同条款来确定。我们的销售顾问可以为您详细解释受益人权益和保险金领取流程。', '问：养老保险是否可以购买多份保单？\\n    答：是的，您可以购买多份养老保险保单。购买多份保单可以增加您的保险保障和退休收入。每份保单的保费和保险金额将根据您的选择而定。我们的销售顾问可以帮助您制定个性化的保险规划，以满足您的需求和目标。\\n\\n\\\\d+\\\\. 问：养老保险是否可以在保险期限内更改受益人？\\n    答：一般情况下，养老保险是可以在保险期限内更改受益人的。如果您有需要更改受益人的情况，您可以与我们联系，提供相关的申请和身份证明文件。我们将根据保险合同的规定帮助您完成受益人的更改手续。', '问：如何了解养老保险的最新信息和政策变动？\\n    答：我们会定期向客户发送最新的养老保险信息和政策变动通知。您也可以通过我们的官方网站、客户服务热线或移动应用程序获取最新的信息。此外，我们的销售顾问也会定期与您保持联系，向您提供最新的产品信息和政策解读。\\n\\n\\\\d+\\\\. 问：养老保险是否可以终身受益？\\n    答：养老保险通常是终身受益的，意味着一旦购买并支付保费，您将享受终身的保险保障。这意味着在您退休后，您可以按照保险合同的约定获得养老金或一次性保险金。我们的销售顾问可以帮助您选择适合您需求的终身养老保险产品。']\n",
      "\n"
     ]
    }
   ],
   "source": [
    "query = \"收益更多的\"\n",
    "\n",
    "print(f\"score:0.8 ans: {sales(query)}\\n\")\n",
    "print(f\"score:0.6 ans: {sales(query, 0.6)}\\n\")\n",
    "print(f\"score:0.5 ans: {sales(query, 0.5)}\\n\")"
   ]
  },
  {
   "cell_type": "markdown",
   "id": "9e26e6d7-259b-4ecf-9c72-027befba4e3b",
   "metadata": {},
   "source": [
    "#### 当向量数据库中没有合适答案时，使用大语言模型能力"
   ]
  },
  {
   "cell_type": "code",
   "execution_count": 75,
   "id": "9142feb4-980a-4142-b367-1401021dceef",
   "metadata": {},
   "outputs": [],
   "source": [
    "from langchain.chains import RetrievalQA\n",
    "from langchain_openai import ChatOpenAI\n",
    "\n",
    "llm = ChatOpenAI(model_name=\"gpt-4-1106-preview\", temperature=0.5)\n",
    "qa_chain = RetrievalQA.from_chain_type(llm,\n",
    "                                       retriever=db.as_retriever(search_type=\"similarity_score_threshold\",\n",
    "                                                                 search_kwargs={\"score_threshold\": 0.6}))"
   ]
  },
  {
   "cell_type": "code",
   "execution_count": 76,
   "id": "d281b560-54bb-4a25-a1dc-b23874361654",
   "metadata": {},
   "outputs": [
    {
     "data": {
      "text/plain": [
       "{'query': '和社保冲突吗？',\n",
       " 'result': '购买养老保险并不会和社保冲突。社会保险（社保）是国家强制性的保障制度，旨在为参保人提供基本的养老、医疗、失业等保障。而养老保险是商业保险的一种，属于个人自愿购买，旨在为个人提供额外的养老金储备和保障。两者可以同时存在，商业养老保险可以作为补充养老保障，为个人退休后的生活提供更多的财务支持和保障。因此，购买养老保险是在社保基础上的补充，有助于实现更全面的养老规划。'}"
      ]
     },
     "execution_count": 76,
     "metadata": {},
     "output_type": "execute_result"
    }
   ],
   "source": [
    "qa_chain({\"query\": \"和社保冲突吗？\"})"
   ]
  },
  {
   "cell_type": "code",
   "execution_count": 83,
   "id": "9764bb10-44ed-47c9-a351-a68f4f7d4f44",
   "metadata": {},
   "outputs": [
    {
     "name": "stdout",
     "output_type": "stream",
     "text": [
      "Requirement already satisfied: langchain-openai in c:\\programdata\\anaconda3\\envs\\langchain\\lib\\site-packages (0.1.17)Note: you may need to restart the kernel to use updated packages.\n",
      "\n",
      "Requirement already satisfied: langchain-core<0.3.0,>=0.2.20 in c:\\programdata\\anaconda3\\envs\\langchain\\lib\\site-packages (from langchain-openai) (0.2.23)\n",
      "Collecting openai<2.0.0,>=1.32.0 (from langchain-openai)\n",
      "  Using cached openai-1.37.0-py3-none-any.whl.metadata (22 kB)\n",
      "Requirement already satisfied: tiktoken<1,>=0.7 in c:\\programdata\\anaconda3\\envs\\langchain\\lib\\site-packages (from langchain-openai) (0.7.0)\n",
      "Requirement already satisfied: PyYAML>=5.3 in c:\\programdata\\anaconda3\\envs\\langchain\\lib\\site-packages (from langchain-core<0.3.0,>=0.2.20->langchain-openai) (6.0.1)\n",
      "Requirement already satisfied: jsonpatch<2.0,>=1.33 in c:\\programdata\\anaconda3\\envs\\langchain\\lib\\site-packages (from langchain-core<0.3.0,>=0.2.20->langchain-openai) (1.33)\n",
      "Requirement already satisfied: langsmith<0.2.0,>=0.1.75 in c:\\programdata\\anaconda3\\envs\\langchain\\lib\\site-packages (from langchain-core<0.3.0,>=0.2.20->langchain-openai) (0.1.93)\n",
      "Requirement already satisfied: packaging<25,>=23.2 in c:\\programdata\\anaconda3\\envs\\langchain\\lib\\site-packages (from langchain-core<0.3.0,>=0.2.20->langchain-openai) (23.2)\n",
      "Requirement already satisfied: pydantic<3,>=1 in c:\\programdata\\anaconda3\\envs\\langchain\\lib\\site-packages (from langchain-core<0.3.0,>=0.2.20->langchain-openai) (2.5.3)\n",
      "Requirement already satisfied: tenacity!=8.4.0,<9.0.0,>=8.1.0 in c:\\programdata\\anaconda3\\envs\\langchain\\lib\\site-packages (from langchain-core<0.3.0,>=0.2.20->langchain-openai) (8.2.3)\n",
      "Requirement already satisfied: anyio<5,>=3.5.0 in c:\\programdata\\anaconda3\\envs\\langchain\\lib\\site-packages (from openai<2.0.0,>=1.32.0->langchain-openai) (4.2.0)\n",
      "Requirement already satisfied: distro<2,>=1.7.0 in c:\\programdata\\anaconda3\\envs\\langchain\\lib\\site-packages (from openai<2.0.0,>=1.32.0->langchain-openai) (1.9.0)\n",
      "Requirement already satisfied: httpx<1,>=0.23.0 in c:\\programdata\\anaconda3\\envs\\langchain\\lib\\site-packages (from openai<2.0.0,>=1.32.0->langchain-openai) (0.26.0)\n",
      "Requirement already satisfied: sniffio in c:\\programdata\\anaconda3\\envs\\langchain\\lib\\site-packages (from openai<2.0.0,>=1.32.0->langchain-openai) (1.3.0)\n",
      "Requirement already satisfied: tqdm>4 in c:\\programdata\\anaconda3\\envs\\langchain\\lib\\site-packages (from openai<2.0.0,>=1.32.0->langchain-openai) (4.66.2)\n",
      "Requirement already satisfied: typing-extensions<5,>=4.7 in c:\\programdata\\anaconda3\\envs\\langchain\\lib\\site-packages (from openai<2.0.0,>=1.32.0->langchain-openai) (4.12.2)\n",
      "Requirement already satisfied: regex>=2022.1.18 in c:\\programdata\\anaconda3\\envs\\langchain\\lib\\site-packages (from tiktoken<1,>=0.7->langchain-openai) (2023.12.25)\n",
      "Requirement already satisfied: requests>=2.26.0 in c:\\programdata\\anaconda3\\envs\\langchain\\lib\\site-packages (from tiktoken<1,>=0.7->langchain-openai) (2.31.0)\n",
      "Requirement already satisfied: idna>=2.8 in c:\\programdata\\anaconda3\\envs\\langchain\\lib\\site-packages (from anyio<5,>=3.5.0->openai<2.0.0,>=1.32.0->langchain-openai) (3.6)\n",
      "Requirement already satisfied: exceptiongroup>=1.0.2 in c:\\programdata\\anaconda3\\envs\\langchain\\lib\\site-packages (from anyio<5,>=3.5.0->openai<2.0.0,>=1.32.0->langchain-openai) (1.2.0)\n",
      "Requirement already satisfied: certifi in c:\\programdata\\anaconda3\\envs\\langchain\\lib\\site-packages (from httpx<1,>=0.23.0->openai<2.0.0,>=1.32.0->langchain-openai) (2024.2.2)\n",
      "Requirement already satisfied: httpcore==1.* in c:\\programdata\\anaconda3\\envs\\langchain\\lib\\site-packages (from httpx<1,>=0.23.0->openai<2.0.0,>=1.32.0->langchain-openai) (1.0.2)\n",
      "Requirement already satisfied: h11<0.15,>=0.13 in c:\\programdata\\anaconda3\\envs\\langchain\\lib\\site-packages (from httpcore==1.*->httpx<1,>=0.23.0->openai<2.0.0,>=1.32.0->langchain-openai) (0.14.0)\n",
      "Requirement already satisfied: jsonpointer>=1.9 in c:\\programdata\\anaconda3\\envs\\langchain\\lib\\site-packages (from jsonpatch<2.0,>=1.33->langchain-core<0.3.0,>=0.2.20->langchain-openai) (2.1)\n",
      "Requirement already satisfied: orjson<4.0.0,>=3.9.14 in c:\\programdata\\anaconda3\\envs\\langchain\\lib\\site-packages (from langsmith<0.2.0,>=0.1.75->langchain-core<0.3.0,>=0.2.20->langchain-openai) (3.9.15)\n",
      "Requirement already satisfied: annotated-types>=0.4.0 in c:\\programdata\\anaconda3\\envs\\langchain\\lib\\site-packages (from pydantic<3,>=1->langchain-core<0.3.0,>=0.2.20->langchain-openai) (0.6.0)\n",
      "Requirement already satisfied: pydantic-core==2.14.6 in c:\\programdata\\anaconda3\\envs\\langchain\\lib\\site-packages (from pydantic<3,>=1->langchain-core<0.3.0,>=0.2.20->langchain-openai) (2.14.6)\n",
      "Requirement already satisfied: charset-normalizer<4,>=2 in c:\\programdata\\anaconda3\\envs\\langchain\\lib\\site-packages (from requests>=2.26.0->tiktoken<1,>=0.7->langchain-openai) (3.3.2)\n",
      "Requirement already satisfied: urllib3<3,>=1.21.1 in c:\\programdata\\anaconda3\\envs\\langchain\\lib\\site-packages (from requests>=2.26.0->tiktoken<1,>=0.7->langchain-openai) (1.26.18)\n",
      "Requirement already satisfied: colorama in c:\\programdata\\anaconda3\\envs\\langchain\\lib\\site-packages (from tqdm>4->openai<2.0.0,>=1.32.0->langchain-openai) (0.4.6)\n",
      "Using cached openai-1.37.0-py3-none-any.whl (337 kB)\n",
      "Installing collected packages: openai\n",
      "  Attempting uninstall: openai\n",
      "    Found existing installation: openai 1.30.1\n",
      "    Uninstalling openai-1.30.1:\n",
      "      Successfully uninstalled openai-1.30.1\n",
      "Successfully installed openai-1.37.0\n"
     ]
    }
   ],
   "source": [
    "pip install -U langchain-openai"
   ]
  },
  {
   "cell_type": "markdown",
   "id": "0a0647e8-5b41-4c93-87c2-3240ec558717",
   "metadata": {},
   "source": [
    "## 加载 FAISS 向量数据库已有结果"
   ]
  },
  {
   "cell_type": "code",
   "execution_count": 81,
   "id": "913edd04-37ea-4c3f-9346-086aeb0ab447",
   "metadata": {},
   "outputs": [],
   "source": [
    "import os\n",
    "from langchain_openai import OpenAIEmbeddings\n",
    "from langchain.vectorstores import FAISS\n",
    "db = FAISS.load_local(\"real_insurance_sale\", OpenAIEmbeddings(),allow_dangerous_deserialization=True)"
   ]
  },
  {
   "cell_type": "code",
   "execution_count": 84,
   "id": "77d8eee4-6383-4b4a-9737-95ea9fc53b87",
   "metadata": {},
   "outputs": [],
   "source": [
    "from langchain.chains import RetrievalQA\n",
    "from langchain.chat_models import ChatOpenAI\n",
    "\n",
    "llm = ChatOpenAI(model_name=\"gpt-4\", temperature=0.5)\n",
    "qa_chain = RetrievalQA.from_chain_type(llm,\n",
    "                                       retriever=db.as_retriever(search_type=\"similarity_score_threshold\",\n",
    "                                                                 search_kwargs={\"score_threshold\": 0.8}))"
   ]
  },
  {
   "cell_type": "code",
   "execution_count": 85,
   "id": "5dfac197-cadb-47d7-8cbe-1b07a83fc8e1",
   "metadata": {},
   "outputs": [
    {
     "name": "stderr",
     "output_type": "stream",
     "text": [
      "C:\\ProgramData\\anaconda3\\envs\\langchain\\lib\\site-packages\\langchain_core\\vectorstores\\base.py:796: UserWarning: No relevant docs were retrieved using the relevance score threshold 0.8\n",
      "  warnings.warn(\n"
     ]
    },
    {
     "data": {
      "text/plain": [
       "{'query': '我想买市场上回报率最高的养老保险',\n",
       " 'result': '对不起，我无法提供具体的养老保险产品推荐，因为这需要考虑到各种因素，包括你的年龄、健康状况、收入等。建议你咨询专业的保险顾问或者进行深入的市场研究来找到最适合你的养老保险产品。'}"
      ]
     },
     "execution_count": 85,
     "metadata": {},
     "output_type": "execute_result"
    }
   ],
   "source": [
    "qa_chain({\"query\": \"我想买市场上回报率最高的养老保险\"})"
   ]
  },
  {
   "cell_type": "code",
   "execution_count": 37,
   "id": "fc393afc-06d3-4483-bd24-efe000ef5f2a",
   "metadata": {},
   "outputs": [],
   "source": [
    "# 输出内部 Chain 的日志\n",
    "qa_chain.combine_documents_chain.verbose = True"
   ]
  },
  {
   "cell_type": "code",
   "execution_count": 87,
   "id": "013c313a-5e7c-48d1-8ed4-eee96e50a99c",
   "metadata": {},
   "outputs": [
    {
     "name": "stderr",
     "output_type": "stream",
     "text": [
      "C:\\ProgramData\\anaconda3\\envs\\langchain\\lib\\site-packages\\langchain_core\\vectorstores\\base.py:796: UserWarning: No relevant docs were retrieved using the relevance score threshold 0.8\n",
      "  warnings.warn(\n"
     ]
    },
    {
     "data": {
      "text/plain": [
       "{'query': '我想买市场上回报率最高的养老保险',\n",
       " 'result': '抱歉，作为一个AI，我无法提供最新的市场数据或推荐具体的保险产品。建议你咨询专业的保险顾问或进行深入的市场研究来找到最适合你的养老保险。'}"
      ]
     },
     "execution_count": 87,
     "metadata": {},
     "output_type": "execute_result"
    }
   ],
   "source": [
    "qa_chain({\"query\": \"我想买市场上回报率最高的养老保险\"})"
   ]
  },
  {
   "cell_type": "code",
   "execution_count": 39,
   "id": "e5fb0943-ffe9-4270-8dbe-f5f5314e6042",
   "metadata": {},
   "outputs": [],
   "source": [
    "# 返回向量数据库的检索结果\n",
    "qa_chain.return_source_documents = True"
   ]
  },
  {
   "cell_type": "code",
   "execution_count": 88,
   "id": "fbc1741e-d34f-4df5-874b-02b78e8cd67a",
   "metadata": {},
   "outputs": [
    {
     "name": "stderr",
     "output_type": "stream",
     "text": [
      "C:\\ProgramData\\anaconda3\\envs\\langchain\\lib\\site-packages\\langchain_core\\vectorstores\\base.py:796: UserWarning: No relevant docs were retrieved using the relevance score threshold 0.8\n",
      "  warnings.warn(\n"
     ]
    }
   ],
   "source": [
    "result = qa_chain({\"query\": \"你们有市场上回报率最高的养老保险吗？\"})"
   ]
  },
  {
   "cell_type": "code",
   "execution_count": 89,
   "id": "fac8309c-033c-4144-ada0-08e74fa9bf2d",
   "metadata": {},
   "outputs": [
    {
     "data": {
      "text/plain": [
       "{'query': '你们有市场上回报率最高的养老保险吗？',\n",
       " 'result': '抱歉，我不能提供具体的保险产品信息，因为我是一个AI助手，无法实时更新市场上的保险产品。建议您咨询专业的保险顾问或者查阅相关保险公司的官方网站以获取最新的养老保险产品信息。'}"
      ]
     },
     "execution_count": 89,
     "metadata": {},
     "output_type": "execute_result"
    }
   ],
   "source": [
    "result"
   ]
  },
  {
   "cell_type": "code",
   "execution_count": null,
   "id": "37de84df-999f-4469-9bbe-de9c95c6f6b3",
   "metadata": {},
   "outputs": [],
   "source": []
  }
 ],
 "metadata": {
  "kernelspec": {
   "display_name": "Python 3 (ipykernel)",
   "language": "python",
   "name": "python3"
  },
  "language_info": {
   "codemirror_mode": {
    "name": "ipython",
    "version": 3
   },
   "file_extension": ".py",
   "mimetype": "text/x-python",
   "name": "python",
   "nbconvert_exporter": "python",
   "pygments_lexer": "ipython3",
   "version": "3.10.14"
  }
 },
 "nbformat": 4,
 "nbformat_minor": 5
}
